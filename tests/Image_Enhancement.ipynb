{
 "cells": [
  {
   "cell_type": "code",
   "execution_count": 30,
   "id": "635b2c38-b477-4333-a997-7b19d80dbf6d",
   "metadata": {},
   "outputs": [],
   "source": [
    "import os\n",
    "import rasterio\n",
    "from glob import glob\n",
    "import glob\n",
    "import re\n",
    "from pathlib import Path\n",
    "from scipy.ndimage import zoom\n"
   ]
  },
  {
   "cell_type": "code",
   "execution_count": 31,
   "id": "117e0f88-4d9f-44d9-8528-f55b0bf1b937",
   "metadata": {},
   "outputs": [],
   "source": [
    "# Function to extract the numeric value from filenames\n",
    "def numeric_sort_key(filepath):\n",
    "    # Extract numbers from the filename using a regular expression\n",
    "    match = re.search(r'\\d+', filepath)\n",
    "    # Return the integer value of the number if found, otherwise 0\n",
    "    return int(match.group()) if match else 0\n",
    "    \n",
    "def preprocess_dataset(transaction_ID, image_dir, output_dir, scale_factor=2):\n",
    "    \"\"\"\n",
    "    Preprocess the input images by applying bicubic interpolation and saving the results using rasterio.\n",
    "    \n",
    "    Args:\n",
    "        image_dir (str): Directory containing input images.\n",
    "        output_dir (str): Base directory to store the preprocessed data.\n",
    "        scale_factor (int): Factor by which to upscale the images.\n",
    "    \"\"\"\n",
    "    \n",
    "    # Get all the image and mask paths and sort them numerically\n",
    "    image_paths = sorted(glob.glob(os.path.join(image_dir, transaction_ID, \"*tif\")), key=numeric_sort_key)\n",
    "    \n",
    "    # Create output directories for images and masks\n",
    "    images_output_dir = Path(os.path.join(output_dir, transaction_ID))\n",
    "    images_output_dir.mkdir(parents=True, exist_ok=True)\n",
    "    \n",
    "    # Process images\n",
    "    print(f\"Processing {len(image_paths)} images...\")\n",
    "    for img_path in image_paths:\n",
    "        with rasterio.open(img_path) as src:\n",
    "            # Read and upscale each band\n",
    "            upscaled_data = []\n",
    "            for band in range(1, src.count + 1):  # Loop through bands\n",
    "                band_data = src.read(band)\n",
    "                upscaled_band = zoom(band_data, scale_factor, order=3)  # Cubic interpolation\n",
    "                upscaled_data.append(upscaled_band)\n",
    "            \n",
    "            # Write to a new file\n",
    "            meta = src.meta.copy()\n",
    "            meta.update({\n",
    "                \"height\": int(src.height * scale_factor),\n",
    "                \"width\": int(src.width * scale_factor),\n",
    "                \"transform\": src.transform * rasterio.Affine.scale(1 / scale_factor),\n",
    "            })\n",
    "            output_path = images_output_dir / os.path.basename(img_path)\n",
    "            with rasterio.open(output_path, \"w\", **meta) as dst:\n",
    "                for i, band_data in enumerate(upscaled_data, start=1):\n",
    "                    dst.write(band_data, i)\n",
    "    \n",
    "    print(f\"Preprocessing complete. Data saved to: {output_dir}\")\n"
   ]
  },
  {
   "cell_type": "code",
   "execution_count": 34,
   "id": "3be5c66b-0aa8-4b4f-b09b-c50c9a69015a",
   "metadata": {},
   "outputs": [
    {
     "name": "stdout",
     "output_type": "stream",
     "text": [
      "Processing 16 images...\n",
      "Preprocessing complete. Data saved to: /home/sagemaker-user/satellite-ml-solarp-detection/image_enhancement\n"
     ]
    }
   ],
   "source": [
    "preprocess_dataset(\n",
    "    transaction_ID = '200010',\n",
    "    image_dir = os.path.join(os.path.expanduser(\"~\"), \"satellite-ml-solarp-detection\",\"acquisition\"), \n",
    "    output_dir = os.path.join(os.path.expanduser(\"~\"), \"satellite-ml-solarp-detection\",\"image_enhancement\"),\n",
    "    scale_factor=2\n",
    ")"
   ]
  },
  {
   "cell_type": "code",
   "execution_count": null,
   "id": "9b4bb09a-f5e5-470d-af7d-b610ffcd635c",
   "metadata": {},
   "outputs": [],
   "source": []
  }
 ],
 "metadata": {
  "kernelspec": {
   "display_name": "Enhancement_env",
   "language": "python",
   "name": "enhancement_env"
  },
  "language_info": {
   "codemirror_mode": {
    "name": "ipython",
    "version": 3
   },
   "file_extension": ".py",
   "mimetype": "text/x-python",
   "name": "python",
   "nbconvert_exporter": "python",
   "pygments_lexer": "ipython3",
   "version": "3.11.11"
  }
 },
 "nbformat": 4,
 "nbformat_minor": 5
}

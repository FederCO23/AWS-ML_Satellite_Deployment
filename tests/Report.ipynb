{
 "cells": [
  {
   "cell_type": "code",
   "execution_count": 41,
   "id": "12ed5e06-ef90-42da-8a1a-01cd3ecb8b42",
   "metadata": {},
   "outputs": [],
   "source": [
    "import glob\n",
    "import matplotlib.pyplot as plt\n",
    "import os\n",
    "import re\n",
    "import imageio"
   ]
  },
  {
   "cell_type": "code",
   "execution_count": 42,
   "id": "c6d7004c-a86a-4dc2-a819-4151749b316e",
   "metadata": {},
   "outputs": [],
   "source": [
    "# Inputs\n",
    "transaction_ID = '200008'\n"
   ]
  },
  {
   "cell_type": "code",
   "execution_count": 43,
   "id": "11dec0a6-96c0-4b0b-83a7-376e7fce627b",
   "metadata": {},
   "outputs": [],
   "source": [
    "# Function to extract the numeric value from filenames\n",
    "def extract_row_col(filepath):\n",
    "    match = re.findall(r'(\\d+)', os.path.basename(filepath))  # Find all numbers in filename\n",
    "    if len(match) >= 3:\n",
    "        return (int(match[1]), int(match[2]))  # Use second and third numbers (row, col)\n",
    "    return (9999, 9999)  # Default large number to push problematic files to the end\n",
    "\n",
    "# Get all the input images and sort them numerically\n",
    "folder_data_input = sorted(\n",
    "    glob.glob(os.path.join(os.path.expanduser(\"~\"), \"satellite-ml-solarp-detection\",\"acquisition\", transaction_ID, \"*tiff\")),\n",
    "    key= extract_row_col\n",
    ")\n",
    "\n",
    "folder_data_preds = sorted(\n",
    "    glob.glob(os.path.join(os.path.expanduser(\"~\"), \"satellite-ml-solarp-detection\",\"prediction\", transaction_ID, \"*tiff\")),\n",
    "    key= extract_row_col\n",
    ")\n"
   ]
  },
  {
   "cell_type": "code",
   "execution_count": 44,
   "id": "829e1463-4bb5-4ea4-8bb9-67d3078c41a0",
   "metadata": {},
   "outputs": [
    {
     "name": "stdout",
     "output_type": "stream",
     "text": [
      "['/home/sagemaker-user/satellite-ml-solarp-detection/acquisition/200008/200008_000_000.tiff', '/home/sagemaker-user/satellite-ml-solarp-detection/acquisition/200008/200008_000_001.tiff', '/home/sagemaker-user/satellite-ml-solarp-detection/acquisition/200008/200008_000_002.tiff', '/home/sagemaker-user/satellite-ml-solarp-detection/acquisition/200008/200008_000_003.tiff', '/home/sagemaker-user/satellite-ml-solarp-detection/acquisition/200008/200008_001_000.tiff', '/home/sagemaker-user/satellite-ml-solarp-detection/acquisition/200008/200008_001_001.tiff', '/home/sagemaker-user/satellite-ml-solarp-detection/acquisition/200008/200008_001_002.tiff', '/home/sagemaker-user/satellite-ml-solarp-detection/acquisition/200008/200008_001_003.tiff', '/home/sagemaker-user/satellite-ml-solarp-detection/acquisition/200008/200008_002_000.tiff', '/home/sagemaker-user/satellite-ml-solarp-detection/acquisition/200008/200008_002_001.tiff', '/home/sagemaker-user/satellite-ml-solarp-detection/acquisition/200008/200008_002_002.tiff', '/home/sagemaker-user/satellite-ml-solarp-detection/acquisition/200008/200008_002_003.tiff', '/home/sagemaker-user/satellite-ml-solarp-detection/acquisition/200008/200008_003_000.tiff', '/home/sagemaker-user/satellite-ml-solarp-detection/acquisition/200008/200008_003_001.tiff', '/home/sagemaker-user/satellite-ml-solarp-detection/acquisition/200008/200008_003_002.tiff', '/home/sagemaker-user/satellite-ml-solarp-detection/acquisition/200008/200008_003_003.tiff']\n",
      "------------------------------------------------------------------------------------------------------------------------\n",
      "Number of files in the acquisition ID \"200008\": 16\n"
     ]
    }
   ],
   "source": [
    "input_image_paths = folder_data_input[:]\n",
    "preds_image_paths = folder_data_preds[:]\n",
    "\n",
    "print(input_image_paths)\n",
    "print(120*\"-\")\n",
    "print(f'Number of files in the acquisition ID \"{transaction_ID}\": {len(input_image_paths)}')\n"
   ]
  },
  {
   "cell_type": "code",
   "execution_count": 50,
   "id": "6f72f978-365c-49f3-8672-1a402cb1c087",
   "metadata": {},
   "outputs": [
    {
     "name": "stdout",
     "output_type": "stream",
     "text": [
      "Grid shape: 4 rows by 4 cols.\n"
     ]
    }
   ],
   "source": [
    "# Determine the the grid size\n",
    "nb_of_rows = int(input_image_paths[-1][-12:-9]) + 1\n",
    "nb_of_cols = int(input_image_paths[-1][-8:-5]) + 1\n",
    "\n",
    "print(f'Grid shape: {nb_of_rows} rows by {nb_of_cols} cols.')\n",
    "\n"
   ]
  },
  {
   "cell_type": "code",
   "execution_count": 51,
   "id": "b7d6987b-6068-49fa-9b9d-6d988757420a",
   "metadata": {},
   "outputs": [
    {
     "ename": "TypeError",
     "evalue": "subplots() takes from 0 to 2 positional arguments but 3 positional arguments (and 1 keyword-only argument) were given",
     "output_type": "error",
     "traceback": [
      "\u001b[31m---------------------------------------------------------------------------\u001b[39m",
      "\u001b[31mTypeError\u001b[39m                                 Traceback (most recent call last)",
      "\u001b[36mCell\u001b[39m\u001b[36m \u001b[39m\u001b[32mIn[51]\u001b[39m\u001b[32m, line 2\u001b[39m\n\u001b[32m      1\u001b[39m \u001b[38;5;66;03m# Generate Report\u001b[39;00m\n\u001b[32m----> \u001b[39m\u001b[32m2\u001b[39m fig, axes = \u001b[43mplt\u001b[49m\u001b[43m.\u001b[49m\u001b[43msubplots\u001b[49m\u001b[43m(\u001b[49m\u001b[32;43m2\u001b[39;49m\u001b[43m,\u001b[49m\u001b[43m \u001b[49m\u001b[43mnb_of_rows\u001b[49m\u001b[43m,\u001b[49m\u001b[43m \u001b[49m\u001b[43mnb_of_cols\u001b[49m\u001b[43m,\u001b[49m\u001b[43m \u001b[49m\u001b[43mfigsize\u001b[49m\u001b[43m=\u001b[49m\u001b[43m(\u001b[49m\u001b[32;43m20\u001b[39;49m\u001b[43m,\u001b[49m\u001b[43m \u001b[49m\u001b[32;43m10\u001b[39;49m\u001b[43m)\u001b[49m\u001b[43m,\u001b[49m\u001b[43m \u001b[49m\u001b[43msqueeze\u001b[49m\u001b[43m=\u001b[49m\u001b[38;5;28;43;01mFalse\u001b[39;49;00m\u001b[43m)\u001b[49m\n\u001b[32m      4\u001b[39m \u001b[38;5;28;01mfor\u001b[39;00m idx, (input_path, pred_path) \u001b[38;5;129;01min\u001b[39;00m \u001b[38;5;28menumerate\u001b[39m(\u001b[38;5;28mzip\u001b[39m(input_image_paths, preds_image_paths)):\n\u001b[32m      6\u001b[39m     row = idx // nb_of_rows\n",
      "\u001b[31mTypeError\u001b[39m: subplots() takes from 0 to 2 positional arguments but 3 positional arguments (and 1 keyword-only argument) were given"
     ]
    }
   ],
   "source": [
    "# Generate Report\n",
    "fig, axes = plt.subplots(2, nb_of_rows, nb_of_cols, figsize=(20, 10), squeeze=False)\n",
    "\n",
    "for idx, (input_path, pred_path) in enumerate(zip(input_image_paths, preds_image_paths)):\n",
    "\n",
    "    row = idx // nb_of_rows\n",
    "    col = idx % nb_of_cols\n",
    "    \n",
    "    input_img = imageio.v2.imread(input_path)\n",
    "    pred_img = imageio.v2.imread(pred_path)\n",
    "\n",
    "    # Normalize input images for display\n",
    "    input_img = (input_img - input_img.min()) / (input_img.max() - input_img.min()) if input_img.max() > 1 else input_img\n",
    "    \n",
    "    axes[0, row, col].imshow(input_img)\n",
    "    axes[0, row, col].set_title(f\"Input {idx+1}\")\n",
    "    axes[0, row, col].axis(\"off\")\n",
    "    \n",
    "    axes[1, row, col].imshow(pred_img, cmap=\"gray\")\n",
    "    axes[1, row, col].set_title(f\"Prediction {idx+1}\")\n",
    "    axes[1, row, col].axis(\"off\")\n",
    "\n",
    "plt.tight_layout()\n",
    "plt.show()\n",
    "\n",
    "\n"
   ]
  },
  {
   "cell_type": "code",
   "execution_count": 38,
   "id": "2a887fab-6057-4851-a362-f409a997b735",
   "metadata": {},
   "outputs": [
    {
     "ename": "NameError",
     "evalue": "name 'predicted_image_paths' is not defined",
     "output_type": "error",
     "traceback": [
      "\u001b[31m---------------------------------------------------------------------------\u001b[39m",
      "\u001b[31mNameError\u001b[39m                                 Traceback (most recent call last)",
      "\u001b[36mCell\u001b[39m\u001b[36m \u001b[39m\u001b[32mIn[38]\u001b[39m\u001b[32m, line 17\u001b[39m\n\u001b[32m      9\u001b[39m         stats.append({\n\u001b[32m     10\u001b[39m             \u001b[33m\"\u001b[39m\u001b[33mFile\u001b[39m\u001b[33m\"\u001b[39m: os.path.basename(path),\n\u001b[32m     11\u001b[39m             \u001b[33m\"\u001b[39m\u001b[33mTotal Pixels\u001b[39m\u001b[33m\"\u001b[39m: total_pixels,\n\u001b[32m     12\u001b[39m             \u001b[33m\"\u001b[39m\u001b[33mPositive Pixels\u001b[39m\u001b[33m\"\u001b[39m: positive_pixels,\n\u001b[32m     13\u001b[39m             \u001b[33m\"\u001b[39m\u001b[33mCoverage \u001b[39m\u001b[33m%\u001b[39m\u001b[33m\"\u001b[39m: coverage_percentage\n\u001b[32m     14\u001b[39m         })\n\u001b[32m     15\u001b[39m     \u001b[38;5;28;01mreturn\u001b[39;00m pd.DataFrame(stats)\n\u001b[32m---> \u001b[39m\u001b[32m17\u001b[39m stats_df = compute_statistics(\u001b[43mpredicted_image_paths\u001b[49m)\n\u001b[32m     18\u001b[39m \u001b[38;5;28mprint\u001b[39m(stats_df)\n\u001b[32m     20\u001b[39m \u001b[38;5;66;03m# Save the report as a CSV\u001b[39;00m\n",
      "\u001b[31mNameError\u001b[39m: name 'predicted_image_paths' is not defined"
     ]
    }
   ],
   "source": [
    "\n",
    "# # Compute Statistics\n",
    "# def compute_statistics(predicted_paths):\n",
    "#     stats = []\n",
    "#     for path in predicted_paths:\n",
    "#         pred_img = imageio.imread(path)\n",
    "#         total_pixels = pred_img.size\n",
    "#         positive_pixels = np.sum(pred_img > 0)\n",
    "#         coverage_percentage = (positive_pixels / total_pixels) * 100\n",
    "#         stats.append({\n",
    "#             \"File\": os.path.basename(path),\n",
    "#             \"Total Pixels\": total_pixels,\n",
    "#             \"Positive Pixels\": positive_pixels,\n",
    "#             \"Coverage %\": coverage_percentage\n",
    "#         })\n",
    "#     return pd.DataFrame(stats)\n",
    "\n",
    "# stats_df = compute_statistics(predicted_image_paths)\n",
    "# print(stats_df)\n",
    "\n",
    "# # Save the report as a CSV\n",
    "# report_path = os.path.join(os.path.expanduser(\"~\"), \"satellite-ml-solarp-detection\", \"reports\", f\"report_{transaction_ID}.csv\")\n",
    "# os.makedirs(os.path.dirname(report_path), exist_ok=True)\n",
    "# stats_df.to_csv(report_path, index=False)\n",
    "# print(f\"Report saved: {report_path}\")\n"
   ]
  },
  {
   "cell_type": "code",
   "execution_count": null,
   "id": "ac7e49f2-a1f0-4def-903a-8189026edd22",
   "metadata": {},
   "outputs": [],
   "source": []
  }
 ],
 "metadata": {
  "kernelspec": {
   "display_name": "Report2_env",
   "language": "python",
   "name": "report_env"
  },
  "language_info": {
   "codemirror_mode": {
    "name": "ipython",
    "version": 3
   },
   "file_extension": ".py",
   "mimetype": "text/x-python",
   "name": "python",
   "nbconvert_exporter": "python",
   "pygments_lexer": "ipython3",
   "version": "3.11.11"
  }
 },
 "nbformat": 4,
 "nbformat_minor": 5
}

{
 "cells": [
  {
   "cell_type": "markdown",
   "id": "c4aeb330-41fc-4378-af08-ae60bc67c9ca",
   "metadata": {},
   "source": [
    "NNNNNN-YYYY-MM-DD"
   ]
  },
  {
   "cell_type": "code",
   "execution_count": 7,
   "id": "8376a37c-49c3-48b9-9ff0-4d69c1bd9b8b",
   "metadata": {},
   "outputs": [],
   "source": [
    "from datetime import datetime\n",
    "import os"
   ]
  },
  {
   "cell_type": "code",
   "execution_count": 8,
   "id": "91a56068-2f60-43d6-ab08-5cbe57452dfb",
   "metadata": {},
   "outputs": [
    {
     "name": "stdout",
     "output_type": "stream",
     "text": [
      "2025-03-04\n"
     ]
    }
   ],
   "source": [
    "current_date = datetime.now().strftime(\"%Y-%m-%d\")\n",
    "print(current_date)"
   ]
  },
  {
   "cell_type": "markdown",
   "id": "d356c706-c9b5-4671-bb10-655b13e9991e",
   "metadata": {},
   "source": [
    "/home/sagemaker-user/satellite-ml-solarp-detection/src/utils/transaction_id_gen/counter.txt"
   ]
  },
  {
   "cell_type": "code",
   "execution_count": 24,
   "id": "5e9f1074-1141-4cf4-804a-12016c7baf4f",
   "metadata": {},
   "outputs": [],
   "source": [
    "def ID_Gen(file_path):\n",
    "    try:\n",
    "        # Read the current counter value\n",
    "        with open(file_path, \"r\") as file:\n",
    "            counter = int(file.read())\n",
    "    except (FileNotFoundError, ValueError):\n",
    "        # If file doesn't exist or is empty, start from 0\n",
    "        counter = 0\n",
    "\n",
    "    # Increment counter\n",
    "    counter += 1\n",
    "\n",
    "    # Write updated counter back to file\n",
    "    with open(file_path, \"w\") as file:\n",
    "        file.write(str(counter))\n",
    "\n",
    "    # current date using YYYY-MM-DD mask\n",
    "    current_date = datetime.now().strftime(\"%Y-%m-%d\")\n",
    "    \n",
    "    return f\"{counter:06d}-\" + current_date\n"
   ]
  },
  {
   "cell_type": "code",
   "execution_count": 26,
   "id": "e737a09b-54e0-41a7-9956-19c010d85648",
   "metadata": {},
   "outputs": [
    {
     "name": "stdout",
     "output_type": "stream",
     "text": [
      "new transaction ID: 000010-2025-03-04\n"
     ]
    }
   ],
   "source": [
    "# Example usage\n",
    "new_value = ID_Gen(os.path.join(os.path.expanduser(\"~\"), \"satellite-ml-solarp-detection\",\"src\", \"utils\", \"transaction_id_gen\", counter_file))\n",
    "print(f\"new transaction ID: {new_value}\")"
   ]
  },
  {
   "cell_type": "code",
   "execution_count": 27,
   "id": "360f9059-b4d0-4537-984f-c0300c65070b",
   "metadata": {},
   "outputs": [
    {
     "name": "stdout",
     "output_type": "stream",
     "text": [
      "new transaction ID: 000011-2025-03-04\n"
     ]
    }
   ],
   "source": [
    "# Example usage\n",
    "new_value = ID_Gen(os.path.join(os.path.expanduser(\"~\"), \"satellite-ml-solarp-detection\",\"src\", \"utils\", \"transaction_id_gen\", counter_file))\n",
    "print(f\"new transaction ID: {new_value}\")"
   ]
  },
  {
   "cell_type": "code",
   "execution_count": 28,
   "id": "e3e6fe4a-d5fe-4af1-a230-0e57bf80c13e",
   "metadata": {},
   "outputs": [
    {
     "name": "stdout",
     "output_type": "stream",
     "text": [
      "new transaction ID: 000012-2025-03-04\n"
     ]
    }
   ],
   "source": [
    "# Example usage\n",
    "new_value = ID_Gen(os.path.join(os.path.expanduser(\"~\"), \"satellite-ml-solarp-detection\",\"src\", \"utils\", \"transaction_id_gen\", counter_file))\n",
    "print(f\"new transaction ID: {new_value}\")"
   ]
  },
  {
   "cell_type": "markdown",
   "id": "04283459-e3d4-4ae7-b200-9cc540bcb9b3",
   "metadata": {},
   "source": [
    "----"
   ]
  },
  {
   "cell_type": "code",
   "execution_count": 31,
   "id": "860bcf75-93eb-4c37-8a2c-354a913de3ca",
   "metadata": {},
   "outputs": [],
   "source": [
    "from utils import ID_Gen as TransactionID_Gen"
   ]
  },
  {
   "cell_type": "code",
   "execution_count": 32,
   "id": "fc139ae3-daa0-4f88-bb55-37912b30cedd",
   "metadata": {},
   "outputs": [
    {
     "data": {
      "text/plain": [
       "'000013-2025-03-04'"
      ]
     },
     "execution_count": 32,
     "metadata": {},
     "output_type": "execute_result"
    }
   ],
   "source": [
    "TransactionID_Gen(os.path.join(os.path.expanduser(\"~\"), \"satellite-ml-solarp-detection\",\"src\", \"utils\", \"transaction_id_gen\", counter_file))"
   ]
  },
  {
   "cell_type": "code",
   "execution_count": null,
   "id": "7b751259-5026-41f9-9cb8-14e38bc70c7a",
   "metadata": {},
   "outputs": [],
   "source": []
  }
 ],
 "metadata": {
  "kernelspec": {
   "display_name": "Python 3 (ipykernel)",
   "language": "python",
   "name": "python3"
  },
  "language_info": {
   "codemirror_mode": {
    "name": "ipython",
    "version": 3
   },
   "file_extension": ".py",
   "mimetype": "text/x-python",
   "name": "python",
   "nbconvert_exporter": "python",
   "pygments_lexer": "ipython3",
   "version": "3.11.11"
  }
 },
 "nbformat": 4,
 "nbformat_minor": 5
}

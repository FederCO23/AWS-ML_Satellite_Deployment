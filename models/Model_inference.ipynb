{
 "cells": [
  {
   "cell_type": "code",
   "execution_count": 5,
   "id": "bee4fb12-cef9-451d-959b-5d305465e37c",
   "metadata": {},
   "outputs": [],
   "source": [
    "import torch\n",
    "import segmentation_models_pytorch as smp\n",
    "import numpy as np\n",
    "import matplotlib.pyplot as plt\n",
    "from torchvision import transforms\n",
    "from PIL import Image\n",
    "import os\n",
    "\n",
    "\n"
   ]
  },
  {
   "cell_type": "code",
   "execution_count": 8,
   "id": "11ee273a-08fc-4b08-982e-8d02d09d4ba4",
   "metadata": {},
   "outputs": [
    {
     "name": "stdout",
     "output_type": "stream",
     "text": [
      "Using device: cpu\n",
      "Model weights loaded successfully.\n",
      "Sample image not found. Please provide a valid path.\n"
     ]
    }
   ],
   "source": [
    "\n",
    "# Set device (use GPU if available, otherwise fallback to CPU)\n",
    "device = torch.device(\"cuda\" if torch.cuda.is_available() else \"cpu\")\n",
    "print(f\"Using device: {device}\")\n",
    "\n",
    "# Define U-Net model\n",
    "ENCODER = 'efficientnet-b7'\n",
    "#ENCODER_WEIGHTS = 'imagenet'\n",
    "CLASSES = ['solar_panel']\n",
    "ACTIVATION = 'sigmoid'\n",
    "\n",
    "model = smp.Unet(\n",
    "    in_channels = 4, #4 for all bands\n",
    "    encoder_name=ENCODER, \n",
    "    encoder_weights=None,  # No pretraining, since we are loading trained weights\n",
    "    classes=len(CLASSES), \n",
    "    activation=ACTIVATION,\n",
    ")\n",
    "\n",
    "# Move model to device\n",
    "model = model.to(device)\n",
    "\n",
    "# Load trained weights\n",
    "weights_path = os.path.join(os.path.expanduser(\"~\"), \"satellite-ml-solarp-detection\",\"models\", \"weights\", \"u-net_efficientnet-b7_v1\", \"unet-seed23_weights.pth\")\n",
    "\n",
    "if os.path.exists(weights_path):\n",
    "    model.load_state_dict(torch.load(weights_path, map_location=device))\n",
    "    print(\"Model weights loaded successfully.\")\n",
    "else:\n",
    "    print(\"Error: Weights file not found!\")\n",
    "\n",
    "# Set model to evaluation mode\n",
    "model.eval()\n",
    "\n",
    "# Define preprocessing function\n",
    "def preprocess_image(image_path):\n",
    "    \"\"\"Loads an image, converts it to a tensor, and normalizes it.\"\"\"\n",
    "    image = Image.open(image_path).convert(\"RGB\")\n",
    "    transform = transforms.Compose([\n",
    "        transforms.Resize((256, 256)),  # Adjust based on model input size\n",
    "        transforms.ToTensor(),\n",
    "        transforms.Normalize(mean=[0.485, 0.456, 0.406], std=[0.229, 0.224, 0.225])  # Standard ImageNet normalization\n",
    "    ])\n",
    "    return transform(image).unsqueeze(0)  # Add batch dimension\n",
    "\n",
    "# Define inference function\n",
    "def predict(image_path):\n",
    "    \"\"\"Runs inference on a given image and displays the result.\"\"\"\n",
    "    input_tensor = preprocess_image(image_path).to(device)\n",
    "    with torch.no_grad():\n",
    "        output = model(input_tensor)\n",
    "        output = torch.sigmoid(output).squeeze().cpu().numpy()\n",
    "    \n",
    "    # Show original and predicted mask\n",
    "    fig, ax = plt.subplots(1, 2, figsize=(10, 5))\n",
    "    ax[0].imshow(Image.open(image_path))\n",
    "    ax[0].set_title(\"Original Image\")\n",
    "    ax[1].imshow(output, cmap=\"gray\")\n",
    "    ax[1].set_title(\"Predicted Mask\")\n",
    "    plt.show()\n",
    "\n",
    "# Example usage\n",
    "sample_image_path = \"path/to/test/image.tif\"  # Change this path\n",
    "if os.path.exists(sample_image_path):\n",
    "    predict(sample_image_path)\n",
    "else:\n",
    "    print(\"Sample image not found. Please provide a valid path.\")\n"
   ]
  },
  {
   "cell_type": "code",
   "execution_count": null,
   "id": "7a022e22-fe1e-4f41-93d3-1cbb3f928fe7",
   "metadata": {},
   "outputs": [],
   "source": []
  },
  {
   "cell_type": "code",
   "execution_count": null,
   "id": "14221676-cf40-41a7-ac47-332a6e909aef",
   "metadata": {},
   "outputs": [],
   "source": []
  },
  {
   "cell_type": "code",
   "execution_count": null,
   "id": "b13b0c6a-8676-4153-8df8-044dc84bcbfd",
   "metadata": {},
   "outputs": [],
   "source": []
  }
 ],
 "metadata": {
  "kernelspec": {
   "display_name": "Model_env",
   "language": "python",
   "name": "model_env"
  },
  "language_info": {
   "codemirror_mode": {
    "name": "ipython",
    "version": 3
   },
   "file_extension": ".py",
   "mimetype": "text/x-python",
   "name": "python",
   "nbconvert_exporter": "python",
   "pygments_lexer": "ipython3",
   "version": "3.11.11"
  }
 },
 "nbformat": 4,
 "nbformat_minor": 5
}
